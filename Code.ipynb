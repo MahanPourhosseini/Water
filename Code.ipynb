{
 "cells": [
  {
   "cell_type": "markdown",
   "metadata": {
    "id": "gSVGGMVETCjx"
   },
   "source": [
    "# Import required libraries"
   ]
  },
  {
   "cell_type": "markdown",
   "metadata": {
    "id": "QHlFIRpiBArN"
   },
   "source": [
    "pandas and numpy are used to perform data manipulation and related tasks. pandas is used to analyze and visualize data, and to perform some queries on data."
   ]
  },
  {
   "cell_type": "code",
   "execution_count": null,
   "metadata": {
    "id": "fGzsogWSTjXT"
   },
   "outputs": [],
   "source": [
    "import pandas as pd\n",
    "import numpy as np"
   ]
  },
  {
   "cell_type": "markdown",
   "metadata": {
    "id": "hR8UzTaUZzkX"
   },
   "source": [
    "# Read water treatment plant dataset"
   ]
  },
  {
   "cell_type": "code",
   "execution_count": null,
   "metadata": {
    "colab": {
     "base_uri": "https://localhost:8080/",
     "height": 355
    },
    "id": "R3fCzDlgUMeL",
    "outputId": "45b64714-b01e-4c16-cfd4-cee60930558a"
   },
   "outputs": [],
   "source": [
    "water_data = pd.read_csv('Data.data')\n",
    "print(type(water_data))\n",
    "print(\"Dataset size: \", water_data.shape)"
   ]
  },
  {
   "cell_type": "markdown",
   "metadata": {
    "id": "-_XRvaQlbJe7"
   },
   "source": [
    "# Display samples"
   ]
  },
  {
   "cell_type": "markdown",
   "metadata": {
    "id": "PNhWwYotDaYB"
   },
   "source": [
    "* **Check the top few rows to see how the data looks.**\n",
    "* **Use the head(n=5) utility from pandas**\n",
    "head(n) returns the first n rows."
   ]
  },
  {
   "cell_type": "code",
   "execution_count": null,
   "metadata": {
    "id": "zbQqF63RVnC1"
   },
   "outputs": [],
   "source": [
    "# pandas display data frames as tables\n",
    "pd.set_option('display.max_columns', None)\n",
    "water_data.head()"
   ]
  },
  {
   "cell_type": "markdown",
   "metadata": {
    "id": "90OzTrCfHsEw"
   },
   "source": [
    "**Print a concise summary of dataframe using info() function**"
   ]
  },
  {
   "cell_type": "code",
   "execution_count": null,
   "metadata": {
    "id": "q1zl-bCIV_qP"
   },
   "outputs": [],
   "source": [
    "water_data.info()"
   ]
  },
  {
   "cell_type": "markdown",
   "metadata": {
    "id": "jOcTSWM4KFlG"
   },
   "source": [
    "**Display statistical summary of data by using describe() function**"
   ]
  },
  {
   "cell_type": "code",
   "execution_count": null,
   "metadata": {
    "id": "22siUt39WHEP"
   },
   "outputs": [],
   "source": [
    "water_data.describe()"
   ]
  },
  {
   "cell_type": "markdown",
   "metadata": {
    "id": "sYWTeJYvni3C"
   },
   "source": [
    "# Exploratory Data Analysis (EDA)"
   ]
  },
  {
   "cell_type": "markdown",
   "metadata": {
    "id": "E5m4MHxIneji"
   },
   "source": [
    "For visualization purposes, we use matplotlib and seaborn along with pandas' visualization capabilities wherever possible.\n",
    "\n",
    "Matplotlib is a comprehensive library for creating static, animated, and interactive visualizations in Python.\n",
    "\n",
    "Seaborn is a Python data visualization library based on matplotlib. It provides a high-level interface for drawing attractive and informative statistical graphics."
   ]
  },
  {
   "cell_type": "code",
   "execution_count": null,
   "metadata": {
    "id": "vW4hvpzdnfI8"
   },
   "outputs": [],
   "source": [
    "# plotting\n",
    "import seaborn as sns\n",
    "import matplotlib.pyplot as plt\n",
    "%matplotlib inline"
   ]
  },
  {
   "cell_type": "markdown",
   "metadata": {
    "id": "LcPdoFkwRBBx"
   },
   "source": [
    "* Use the Seaborn's **histplot()** function to create histograms to visualize the distribution of PH-E feature\n",
    "  * **data**: provides the data to plot via a Pandas DataFrame\n",
    "  * **x**: provides the variable to plot on the x-axis\n",
    "  *  **hue**: allows you to split a categorical variable into additional groups, (splitting the variable into relevant groups)\n",
    "  * **binwidth** and **bins**: determine how wide and how many bins should be plotted, respectively\n",
    "  * **kde**: draws a kernel density estimate\n",
    "\n",
    "histplot() creates histograms to visulaize the distribution of a dataset. This plot is appropriate for continuous features."
   ]
  },
  {
   "cell_type": "code",
   "execution_count": null,
   "metadata": {
    "id": "63VJaz0UW9tn"
   },
   "outputs": [],
   "source": [
    "sns.histplot(data=water_data, x='PH-E', hue='class', kde=True)\n",
    "plt.title('input ph to plant')"
   ]
  },
  {
   "cell_type": "markdown",
   "metadata": {
    "id": "AMIElHbjj-O6"
   },
   "source": [
    "* Visulaize the Seaborn's **barplot()** function for PH-E feature"
   ]
  },
  {
   "cell_type": "markdown",
   "metadata": {
    "id": "MmUSnyfrjvvh"
   },
   "source": [
    "barplot() Creates Bar Charts. A bar plot represents an estimate of central tendency for a numeric variable with the height of each rectangle and provides some indication of the uncertainty around that estimate using error bars.\n",
    "\n",
    "* A bar chart is a chart or graph that represents **numerical** measures (such as counts) broken out by a **categorical** variable.\n",
    "* **data**: specifies the pandas DataFrame we want to use.\n",
    "* **x**: represents the categorical column label\n",
    "* **y**: represents the column that we want to aggregate data for\n",
    "*  **hue**: allows you to split a categorical variable into additional groups, (splitting the variable into relevant groups)."
   ]
  },
  {
   "cell_type": "code",
   "execution_count": null,
   "metadata": {
    "id": "Vza5AkDwXRyg"
   },
   "outputs": [],
   "source": [
    "sns.barplot(data=water_data, x='class', y='PH-E')"
   ]
  },
  {
   "cell_type": "markdown",
   "metadata": {
    "id": "UTwSn-c2kbIl"
   },
   "source": [
    "* Use the Seaborn's **histplot()** function to create histograms to visualize the distribution of SSV-E feature"
   ]
  },
  {
   "cell_type": "code",
   "execution_count": null,
   "metadata": {
    "id": "TtWHYyvaXiCs"
   },
   "outputs": [],
   "source": [
    "sns.histplot(data=water_data, x='SSV-E', hue='class', kde=True)\n",
    "plt.title('input volatile suspended solids to plant')"
   ]
  },
  {
   "cell_type": "code",
   "execution_count": null,
   "metadata": {
    "id": "R53s2dTQXwzQ"
   },
   "outputs": [],
   "source": [
    "sns.barplot(data=water_data, x='SSV-E',y='PH-E')"
   ]
  },
  {
   "cell_type": "markdown",
   "metadata": {
    "id": "vJXTASidok_w"
   },
   "source": [
    "* Use the Seaborn's **histplot()** function to create histograms to visualize the distribution of SED-E feature"
   ]
  },
  {
   "cell_type": "code",
   "execution_count": null,
   "metadata": {
    "id": "2x1o71wHYjC3"
   },
   "outputs": [],
   "source": [
    "sns.histplot(data=water_data, x='SED-E', hue='class', kde=True)\n",
    "plt.title('input sediments to plant')"
   ]
  },
  {
   "cell_type": "code",
   "execution_count": null,
   "metadata": {
    "id": "MH4IPBeSYoaZ"
   },
   "outputs": [],
   "source": [
    "sns.barplot(data=water_data, x='class',y='SED-E')"
   ]
  },
  {
   "cell_type": "markdown",
   "metadata": {
    "id": "8c68ohniEH6Z"
   },
   "source": [
    "* Use the Seaborn's **countplot()** function to visualize the class distribution\n",
    "\n",
    "A count plot is similar to a bar plot and a histogram and provides counts of categorical values."
   ]
  },
  {
   "cell_type": "code",
   "execution_count": null,
   "metadata": {
    "id": "EeQJXfmMYuAt"
   },
   "outputs": [],
   "source": [
    "# Draw a Histogram\n",
    "sns.countplot(data=water_data, x='class')"
   ]
  },
  {
   "cell_type": "markdown",
   "metadata": {
    "id": "ykKnEJ0P5nNG"
   },
   "source": [
    "Water treatment plant data is partially imbalanced.\n",
    "\n",
    "In machine learning, imbalance ratios from 1:4 to 1:5000 are considered imbalanced classifications."
   ]
  },
  {
   "cell_type": "markdown",
   "metadata": {
    "id": "JfojZJLW74XB"
   },
   "source": [
    "* Investigate the correlation between features extracted from the primary settler and secondary settler."
   ]
  },
  {
   "cell_type": "markdown",
   "metadata": {
    "id": "ML9HK_47UROw"
   },
   "source": [
    "* Use **relplot()** function to show relationship between PH-P and PH-D.\n",
    "\n",
    "Relational plots show the relationship between two or more continuous variables.\n",
    "\n",
    "We can customize the type of visualization that is created by using the **kind**= 'scatter' or 'line' parameter."
   ]
  },
  {
   "cell_type": "code",
   "execution_count": null,
   "metadata": {
    "id": "Ctxv7XRtY6D9"
   },
   "outputs": [],
   "source": [
    "sns.relplot(data=water_data, x='PH-P', y='PH-D', kind='line')\n",
    "plt.title('The ralationship between PH-D and PH-P')"
   ]
  },
  {
   "cell_type": "markdown",
   "metadata": {
    "id": "JBdv0eTjouMA"
   },
   "source": [
    "* PH-P (PH-P measured in  primary settler) is linearly depend on PH-D (PH-D measured in  secondary settler)."
   ]
  },
  {
   "cell_type": "markdown",
   "metadata": {
    "id": "tFmDyfmvR2XB"
   },
   "source": [
    "* Use **relplot()** function to show relationship between DBO-P and DBO-D."
   ]
  },
  {
   "cell_type": "code",
   "execution_count": null,
   "metadata": {
    "id": "zRUesYtDZHTv"
   },
   "outputs": [],
   "source": [
    "sns.relplot(data=water_data, x='DBO-P', y='DBO-D', kind='scatter')\n",
    "plt.title('Biological demand of oxygen')"
   ]
  },
  {
   "cell_type": "markdown",
   "metadata": {
    "id": "W6xeyqZAR-1w"
   },
   "source": [
    "* Use **relplot()** function to show relationship between SS-P and SS-D."
   ]
  },
  {
   "cell_type": "code",
   "execution_count": null,
   "metadata": {
    "id": "XcHUADyhZJ9h"
   },
   "outputs": [],
   "source": [
    "sns.relplot(data=water_data, x='SS-P', y='SS-D', kind='scatter')\n",
    "plt.title('Suspended Solids')"
   ]
  },
  {
   "cell_type": "markdown",
   "metadata": {
    "id": "9zaXtVYxSRZ_"
   },
   "source": [
    "* Use **relplot()** function to show relationship between SSV-P and SSV-D."
   ]
  },
  {
   "cell_type": "code",
   "execution_count": null,
   "metadata": {
    "id": "bPL1u0IhZMO0"
   },
   "outputs": [],
   "source": [
    "sns.relplot(data=water_data, x='SSV-P', y='SSV-D', kind='scatter')\n",
    "plt.title('Volatile Suspended Solids')"
   ]
  },
  {
   "cell_type": "markdown",
   "metadata": {
    "id": "ZIURWkOiSYGd"
   },
   "source": [
    "* Use **relplot()** function to show relationship between SED-P and SED-D."
   ]
  },
  {
   "cell_type": "code",
   "execution_count": null,
   "metadata": {
    "id": "AVY8hvbjZPv_"
   },
   "outputs": [],
   "source": [
    "sns.relplot(data=water_data, x='SED-P', y='SED-D', kind='scatter')\n",
    "plt.title('Sediments')"
   ]
  },
  {
   "cell_type": "markdown",
   "metadata": {
    "id": "eLmVftimSa3W"
   },
   "source": [
    "* Use **relplot()** function to show relationship between COND-P and COND-D."
   ]
  },
  {
   "cell_type": "code",
   "execution_count": null,
   "metadata": {
    "id": "LgcDuiscZS8I"
   },
   "outputs": [],
   "source": [
    "sns.relplot(data=water_data, x='COND-P', y='COND-D', kind='scatter')\n",
    "plt.title('Conductivity')"
   ]
  },
  {
   "cell_type": "markdown",
   "metadata": {
    "id": "2X3uqyNFoXRJ"
   },
   "source": [
    "* COND-P (conductivity measured in  primary settler) is linearly depend on COND-D (conductivity measured in  secondary settler)."
   ]
  },
  {
   "cell_type": "markdown",
   "metadata": {
    "id": "31Wxm5FdTVm5"
   },
   "source": [
    "# Correlations between attributes"
   ]
  },
  {
   "cell_type": "markdown",
   "metadata": {
    "id": "P_SVzk56TbNR"
   },
   "source": [
    "Correlation helps us understand relationships between different attributes of the data. Correlations can help us understand and exploit data relationships to build better models."
   ]
  },
  {
   "cell_type": "markdown",
   "metadata": {
    "id": "VrmPqfaMTgOV"
   },
   "source": [
    "* **Prepare a correlational matrix using the pandas utility function of corr()**.\n",
    "* **Use seaborns's heatmap() function to plot the correlation matrix**."
   ]
  },
  {
   "cell_type": "markdown",
   "metadata": {
    "id": "WpB1d4TfW5uM"
   },
   "source": [
    "A heatmap is a plot of rectangular data as a color-encoded matrix.  It can show the relation between variabels.\n",
    "\n",
    "Important Parameters:\n",
    "* **data**: refers to the Pandas DataFrame to use\n",
    "* **vmin, vmax**: Values to anchor the colormap, otherwise they are inferred from the data and other keyword arguments.\n",
    "* **cmap**: allows you to customize the colormap used in the visualization\n",
    "* **annot**: If True, write the data value in each cell.\n",
    "* **square**: allows you to create square values in the heatmap"
   ]
  },
  {
   "cell_type": "code",
   "execution_count": null,
   "metadata": {
    "id": "Iw8ek8BkZXd1"
   },
   "outputs": [],
   "source": [
    "corrMatt = water_data[['PH-P','PH-D','DBO-P','DBO-D','SSV-P','SSV-D','COND-P','COND-D']].corr()\n",
    "sns.heatmap(corrMatt, square=True, annot=True)"
   ]
  },
  {
   "cell_type": "markdown",
   "metadata": {
    "id": "8ZbWvXVxGgiF"
   },
   "source": [
    "# Model Design"
   ]
  },
  {
   "cell_type": "markdown",
   "metadata": {
    "id": "20rINwT10aZh"
   },
   "source": [
    "# Model Evaluation"
   ]
  },
  {
   "cell_type": "markdown",
   "metadata": {
    "id": "XUTEX14dlyvK"
   },
   "source": [
    "The dataset is usually divided at hand into training and testing sets to evaluate the performance of the models.\n",
    "\n",
    "* Use scikit-learn’s train_test_split() function available through model_selection module.\n",
    "  * **X**: data matrix\n",
    "  * **y**: class label vector\n",
    "  * **test_size**: represent the proportion of the dataset to include in the test split\n",
    "  *  **stratify**:  data is split in a stratified fashion (reserving the percentage of samples for each class), using this as the class labels.\n",
    "  * **random_state**: Controls the shuffling applied to the data before applying the split\n",
    "\n",
    "* Split our dataset into 70% and 30% as train and test, respectively."
   ]
  },
  {
   "cell_type": "code",
   "execution_count": null,
   "metadata": {
    "id": "kUxWZQG-ZnT4"
   },
   "outputs": [],
   "source": [
    "from sklearn.model_selection import train_test_split\n",
    "\n",
    "# data\n",
    "X = water_data.drop(columns=['class', 'PH-D', 'COND-D'])\n",
    "# class label\n",
    "y = water_data['class']\n",
    "# Split X & y into training ad test set\n",
    "X_train, X_test, y_train, y_test = train_test_split(X, y, test_size=0.3, stratify=y, random_state=1402)\n",
    "# print training and test size\n",
    "print()\n",
    "print(\"Training set: \", X_train.shape, y_train.shape)\n",
    "print(\"Testing set: \", X_test.shape)"
   ]
  },
  {
   "cell_type": "markdown",
   "metadata": {
    "id": "7aZg9HHssHXW"
   },
   "source": [
    "# Data preprocessing"
   ]
  },
  {
   "cell_type": "markdown",
   "metadata": {
    "id": "M7c-kv-bGDFB"
   },
   "source": [
    "# KNN imputer for missing values"
   ]
  },
  {
   "cell_type": "markdown",
   "metadata": {
    "id": "1KAOYRltO28e"
   },
   "source": [
    "**Impute the missing values by using KNNImputer**"
   ]
  },
  {
   "cell_type": "markdown",
   "metadata": {
    "id": "vg1-jbNvVjur"
   },
   "source": [
    "Each sample’s missing values are imputed using the mean value from k nearest neighbors found in the training set. Two samples are close if the features that neither is missing are close."
   ]
  },
  {
   "cell_type": "markdown",
   "metadata": {
    "id": "97d_QdsOW8r1"
   },
   "source": [
    "The key components of KNNImputer are as follows:\n",
    "\n",
    "* **missing_values**: The placeholder for the missing values. (int, float, str, np.nan or None, default=np.nan)\n",
    "* **n_neighborsint** (default=5) Number of neighboring samples to use for imputation."
   ]
  },
  {
   "cell_type": "code",
   "execution_count": null,
   "metadata": {
    "id": "_UPItxqTGCA-"
   },
   "outputs": [],
   "source": [
    "from sklearn.impute import KNNImputer\n",
    "\n",
    "knn_imputer = KNNImputer(n_neighbors=5)\n",
    "knn_imputer.fit(X_train)\n",
    "X_train = knn_imputer.transform(X_train)\n",
    "X_test = knn_imputer.transform(X_test)"
   ]
  },
  {
   "cell_type": "code",
   "execution_count": null,
   "metadata": {
    "id": "9BhFX1I4hixk"
   },
   "outputs": [],
   "source": [
    "print('Missing values of train data: %d' % np.sum(np.isnan(X_train)))\n",
    "print('Missing values of test data: %d' % np.sum(np.isnan(X_test)))"
   ]
  },
  {
   "cell_type": "markdown",
   "metadata": {
    "id": "ZyQdtgXK0dft"
   },
   "source": [
    "# Normalize features in [0,1] range"
   ]
  },
  {
   "cell_type": "markdown",
   "metadata": {
    "id": "n454-jzl1j1M"
   },
   "source": [
    "MinMaxScaler transforms features by scaling each feature to a given range.\n",
    "* Use **MinMaxScaler()** function from sklearn's preprocessing"
   ]
  },
  {
   "cell_type": "code",
   "execution_count": null,
   "metadata": {
    "id": "2KdQhaEzaC69"
   },
   "outputs": [],
   "source": [
    "# normalize features\n",
    "from sklearn.preprocessing import MinMaxScaler\n",
    "\n",
    "scaler = MinMaxScaler()\n",
    "scaler.fit(X_train)\n",
    "X_train = scaler.transform(X_train)\n",
    "X_test = scaler.transform(X_test)\n",
    "print(\"Min %0.2f & Max %0.2f of trainging data\" %(X_train.min(), X_train.max()))"
   ]
  },
  {
   "cell_type": "code",
   "execution_count": null,
   "metadata": {
    "id": "H84vmkmBh8Yg"
   },
   "outputs": [],
   "source": [
    "# normalize features\n",
    "#from sklearn.preprocessing import StandardScaler\n",
    "\n",
    "#scaler = StandardScaler()\n",
    "#scaler.fit(X_train)\n",
    "#X_train = scaler.transform(X_train)\n",
    "#X_test = scaler.transform(X_test)\n",
    "#print(\"Min %0.2f & Max %0.2f of trainging data\" %(X_train.min(), X_train.max()))"
   ]
  },
  {
   "cell_type": "markdown",
   "metadata": {
    "id": "CXO60AcmsWGk"
   },
   "source": [
    "# Label encoding"
   ]
  },
  {
   "cell_type": "markdown",
   "metadata": {
    "id": "e9N-4knkM82e"
   },
   "source": [
    "Class labels are transformed into integer values due their string format."
   ]
  },
  {
   "cell_type": "markdown",
   "metadata": {
    "id": "mQ7V7LwWMOJL"
   },
   "source": [
    "Encode class labels with value between 0 and n_classes-1\n",
    "* Use **LabelEncoder()** function from sklearn's preprocessing\n",
    "* **classes_** attribute returns the label for each class."
   ]
  },
  {
   "cell_type": "markdown",
   "metadata": {
    "id": "Iye1kz_0WvW-"
   },
   "source": [
    "**Check sample distributions in each class label**\n",
    "* Use numpy's **unique()** function to obtain unique values of class label\n",
    "* Use numpy's **bincount()** function to count sample numbers of each class label"
   ]
  },
  {
   "cell_type": "code",
   "execution_count": null,
   "metadata": {
    "id": "VYYqvNKJaQYH"
   },
   "outputs": [],
   "source": [
    "from sklearn import preprocessing\n",
    "\n",
    "le = preprocessing.LabelEncoder()\n",
    "le.fit(y_train)\n",
    "y_train=le.transform(y_train)\n",
    "y_test=le.transform(y_test)\n",
    "\n",
    "print(le.classes_)\n",
    "\n",
    "# Check balance or imbalance data\n",
    "print(\"Unique lables: \", np.unique(y_train))\n",
    "print(\"Total occurences of each class label:\", np.bincount(y_train))\n",
    "print(np.bincount(y_train)/np.bincount(y_train).min())"
   ]
  },
  {
   "cell_type": "markdown",
   "metadata": {
    "id": "8pz6rCQyOV2l"
   },
   "source": [
    "# Linear SVM\n",
    "\n",
    "SVM or Support Vector Machine is a linear model with Linear kernel for classification and regression problems.\n",
    "\n",
    "* Use LinearSVC from sklearn's svm"
   ]
  },
  {
   "cell_type": "markdown",
   "metadata": {
    "id": "3RrJBUCZTGsL"
   },
   "source": [
    "**Check model overfitting on training data**\n",
    "\n",
    "* Use **StratifiedKFold()** function available as part of the model_selection module. This cross-validation function is a variation of KFold that returns stratified folds. The folds are made by preserving the percentage of samples for each class. Its key components are as:\n",
    "  * **n_splits**: specifies number of folds\n",
    "  * **split(X, y)** function generatea indices to split data into training and test dta\n",
    "  * **X** : feature matrix\n",
    "  * **y** : the target variable\n",
    "\n",
    "We can use python's **enumerate()** for loops when we need a count and the from an iterable."
   ]
  },
  {
   "cell_type": "code",
   "execution_count": null,
   "metadata": {
    "id": "lx5wANwtinI-"
   },
   "outputs": [],
   "source": [
    "from sklearn.model_selection import StratifiedKFold\n",
    "from sklearn.svm import LinearSVC\n",
    "\n",
    "lin_svm_cv = LinearSVC()\n",
    "skf = StratifiedKFold(n_splits=10)\n",
    "\n",
    "X = X_train\n",
    "y = y_train\n",
    "\n",
    "tr_acc = np.zeros(10)\n",
    "te_acc = np.zeros(10)\n",
    "for i, (train_index, test_index) in enumerate(skf.split(X, y)):\n",
    "  X_tr_cv = X[train_index, :]\n",
    "  X_te_cv = X[test_index, :]\n",
    "  y_tr_cv = y[train_index]\n",
    "  y_te_cv = y[test_index]\n",
    "  lin_svm_cv.fit(X_tr_cv, y_tr_cv)\n",
    "  tr_acc[i] = lin_svm_cv.score(X_tr_cv, y_tr_cv)\n",
    "  te_acc[i] = lin_svm_cv.score(X_te_cv, y_te_cv)\n"
   ]
  },
  {
   "cell_type": "markdown",
   "metadata": {
    "id": "owHJBQiWjR3J"
   },
   "source": [
    "# Plot the cross validation scores"
   ]
  },
  {
   "cell_type": "code",
   "execution_count": null,
   "metadata": {
    "id": "ZLIqQKIya6IK"
   },
   "outputs": [],
   "source": [
    "plt.subplot(1,1,1)\n",
    "plt.title('Accuracy')\n",
    "plt.plot(tr_acc, label='train')\n",
    "plt.plot(te_acc, label='test')\n",
    "#plt.legend(loc='upper right')\n",
    "plt.legend()\n",
    "plt.xlabel('Iterations')\n",
    "plt.show()"
   ]
  },
  {
   "cell_type": "code",
   "execution_count": null,
   "metadata": {
    "id": "8UAOwbThjDso"
   },
   "outputs": [],
   "source": [
    "print(\"Train accuracy: mean: %0.4f and std: %0.4f\" %(np.mean(tr_acc), np.std(tr_acc)))\n",
    "print(\"Test accuracy: mean: %0.4f and std: %0.4f\" %(np.mean(te_acc), np.std(te_acc)))\n",
    "print(\"Difference between training and test accuracies for checking overfitting problem: \", tr_acc - te_acc)"
   ]
  },
  {
   "cell_type": "markdown",
   "metadata": {
    "id": "ObvxSNi6kf3l"
   },
   "source": [
    "# Model evaluation\n",
    "\n",
    "The linearsvm model was prepared and evaluated in the training phase needs to be checked for its performance on a completely un-seen dataset, the testing dataset.\n",
    "\n",
    "As mentioned before, we used the **train_test_split()** function to keep a dataset specifically for testing purposes.\n",
    "* Train linearsvm on training data by using **fit()** function\n",
    "* Use test data on the learned linearsvm to predict class labels\n",
    "* Use the **score()** function of the LinearSVC and compare results"
   ]
  },
  {
   "cell_type": "code",
   "execution_count": null,
   "metadata": {
    "id": "dSe16n6uhhcZ"
   },
   "outputs": [],
   "source": [
    "from sklearn.svm import LinearSVC\n",
    "lin_svm = LinearSVC()"
   ]
  },
  {
   "cell_type": "code",
   "execution_count": null,
   "metadata": {
    "id": "P_tL1APWbRR3"
   },
   "outputs": [],
   "source": [
    "lin_svm.fit(X_train, y_train)\n",
    "train_acc = lin_svm.score(X_train, y_train)\n",
    "test_acc = lin_svm.score(X_test, y_test)\n",
    "print(\"Training accuracy\", train_acc)\n",
    "print(\"Test accuracy: \", test_acc)"
   ]
  },
  {
   "cell_type": "markdown",
   "metadata": {
    "id": "OAGqNxnmrLmd"
   },
   "source": [
    "# Kernel SVM\n",
    "\n",
    "SVM algorithms use a set of mathematical functions that are defined as the kernel. The function of kernel is to take data as input and calculates similarity between data points.\n",
    "\n",
    "Different SVM algorithms use different types of kernel functions. These functions can be different types. For example linear, nonlinear, polynomial, radial basis function (RBF), and sigmoid.\n",
    "\n",
    "* Use **SVC()** function available as part of sklearn's svm.\n",
    "* The key components of svc are as:\n",
    "  * **C** (default=1.0): is a regularization parameter.\n",
    "  * **kernel** (default='rbf'): specifies the kernel type.\n",
    "  {'linear', 'ploy', 'rbf', 'sigmoid', 'precomputed'}\n",
    "  * **gamma** (default='scale'): Kernel coefficient for 'rbf', 'poly' and 'sigmoid'\n"
   ]
  },
  {
   "cell_type": "markdown",
   "metadata": {
    "id": "QneUYv0sz-ms"
   },
   "source": [
    "# Check model overfitting on training data\n",
    "\n",
    "**Check the performance of kernel svm for a large value of the gamma parameter**"
   ]
  },
  {
   "cell_type": "markdown",
   "metadata": {
    "id": "YKgnWViEBtdP"
   },
   "source": [
    "![RBF_Kernel_small_.jpg](data:image/jpeg;base64,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)"
   ]
  },
  {
   "cell_type": "markdown",
   "metadata": {
    "id": "UL_8FTneFLYT"
   },
   "source": [
    "* Use StratifiedKFold() function available as part of the model_selection module. This cross-validation function is a variation of KFold that returns stratified folds. The folds are made by preserving the percentage of samples for each class. Its key components are as:\n",
    "  * **n_splits**: specifies number of folds\n",
    "  * **split(X, y)** function generatea indices to split data into training and test dta\n",
    "  * **X** : feature matrix\n",
    "  * **y** : the target variable"
   ]
  },
  {
   "cell_type": "code",
   "execution_count": null,
   "metadata": {
    "id": "vJEtBD7wbfZc"
   },
   "outputs": [],
   "source": [
    "from sklearn.model_selection import StratifiedKFold\n",
    "from sklearn.svm import SVC\n",
    "\n",
    "rbf_svc_cv = SVC(kernel='rbf', gamma=2**8)\n",
    "skf = StratifiedKFold(n_splits=10)\n",
    "\n",
    "X = X_train\n",
    "y = y_train\n",
    "\n",
    "tr_acc = np.zeros(10)\n",
    "te_acc = np.zeros(10)\n",
    "for i, (train_index, test_index) in enumerate(skf.split(X, y)):\n",
    "  X_tr_cv = X[train_index, :]\n",
    "  X_te_cv = X[test_index, :]\n",
    "  y_tr_cv = y[train_index]\n",
    "  y_te_cv = y[test_index]\n",
    "  rbf_svc_cv.fit(X_tr_cv, y_tr_cv)\n",
    "  tr_acc[i] = rbf_svc_cv.score(X_tr_cv, y_tr_cv)\n",
    "  te_acc[i] = rbf_svc_cv.score(X_te_cv, y_te_cv)"
   ]
  },
  {
   "cell_type": "markdown",
   "metadata": {
    "id": "rrNDA9I-04Bv"
   },
   "source": [
    "# Plot the cross validation scores"
   ]
  },
  {
   "cell_type": "code",
   "execution_count": null,
   "metadata": {
    "id": "nt-vIUkddROL"
   },
   "outputs": [],
   "source": [
    "plt.subplot()\n",
    "plt.title('Accuracy')\n",
    "plt.plot(tr_acc, label='train')\n",
    "plt.plot(te_acc, label='test')\n",
    "#plt.legend(loc='upper right')\n",
    "plt.legend()\n",
    "plt.xlabel('Iterations')\n",
    "plt.show()"
   ]
  },
  {
   "cell_type": "markdown",
   "metadata": {
    "id": "5ej9oDTv1SGf"
   },
   "source": [
    "**Check the performance of kernel svm for a small value of gamma parameter**"
   ]
  },
  {
   "cell_type": "markdown",
   "metadata": {
    "id": "cPYqXCqzBgZr"
   },
   "source": [
    "![RBF_Kernel_large_.jpg](data:image/jpeg;base64,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)"
   ]
  },
  {
   "cell_type": "code",
   "execution_count": null,
   "metadata": {
    "id": "99BTIGMVzjBT"
   },
   "outputs": [],
   "source": [
    "from sklearn.model_selection import StratifiedKFold\n",
    "from sklearn.svm import SVC\n",
    "\n",
    "rbf_svc_cv = SVC(kernel='rbf', gamma=2**-8)\n",
    "skf = StratifiedKFold(n_splits=10)\n",
    "\n",
    "X = X_train\n",
    "y = y_train\n",
    "\n",
    "tr_acc = np.zeros(10)\n",
    "te_acc = np.zeros(10)\n",
    "for i, (train_index, test_index) in enumerate(skf.split(X, y)):\n",
    "  X_tr_cv = X[train_index, :]\n",
    "  X_te_cv = X[test_index, :]\n",
    "  y_tr_cv = y[train_index]\n",
    "  y_te_cv = y[test_index]\n",
    "  rbf_svc_cv.fit(X_tr_cv, y_tr_cv)\n",
    "  tr_acc[i] = rbf_svc_cv.score(X_tr_cv, y_tr_cv)\n",
    "  te_acc[i] = rbf_svc_cv.score(X_te_cv, y_te_cv)"
   ]
  },
  {
   "cell_type": "markdown",
   "metadata": {
    "id": "Zs__9LvU1g_7"
   },
   "source": [
    "**Plot the cross validation scores**"
   ]
  },
  {
   "cell_type": "code",
   "execution_count": null,
   "metadata": {
    "id": "9rvSs_OXeUyh"
   },
   "outputs": [],
   "source": [
    "plt.subplot(1,1,1)\n",
    "plt.title('Accuracy')\n",
    "plt.plot(tr_acc, label='train')\n",
    "plt.plot(te_acc, label='test')\n",
    "#plt.legend(loc='upper right')\n",
    "plt.legend()\n",
    "plt.xlabel('Iterations')\n",
    "plt.show()"
   ]
  },
  {
   "cell_type": "markdown",
   "metadata": {
    "id": "JiWsZuqM2CF6"
   },
   "source": [
    "# GridSearch for fine tuning hyperparameters"
   ]
  },
  {
   "cell_type": "markdown",
   "metadata": {
    "id": "L8Kngvop2JyE"
   },
   "source": [
    "The training process for kernel svm is a bit different as compared to linear svm.\n",
    "In this case, we have quite a handful of hyperparameters to tune.\n",
    "\n",
    "The grid search of hyperparameters with k-fold cross validation is an iterative process wrapped, optimized, and standardized by GridSearchCV() function.\n",
    "\n",
    "The GridSearchCV() function will in turn search in this defined list of possible values to arrive at the\n",
    "best one value."
   ]
  },
  {
   "cell_type": "markdown",
   "metadata": {
    "id": "oQXWvU_K2Omc"
   },
   "source": [
    "* sklearn provides a utility to grid search the hyperparameters while cross validating the model using the GridSearchCV() method from model_selection module.\n",
    "* The GridSearchCV() takes the Regression/Classifier as input parameter along with a dictionary of hyperparameters, number of cross validations require.\n",
    "* The **dictionary** provides a list of feasible values for each of the hyperparameters that we want to fine-tune."
   ]
  },
  {
   "cell_type": "code",
   "execution_count": null,
   "metadata": {
    "id": "rrhCLyT6l4YH"
   },
   "outputs": [],
   "source": [
    "from sklearn.svm import SVC\n",
    "rbf_svc = SVC(kernel='rbf')"
   ]
  },
  {
   "cell_type": "code",
   "execution_count": null,
   "metadata": {
    "id": "19skGE76dlro"
   },
   "outputs": [],
   "source": [
    "from sklearn.model_selection import GridSearchCV\n",
    "\n",
    "C_range = np.arange(1, 10, 2)\n",
    "gamma_range = np.arange(2**-8, 2**8, 2)\n",
    "\n",
    "# Create a dictionary of hyperparameters\n",
    "param_grid = {'gamma': gamma_range, 'C': C_range}\n",
    "\n",
    "grid = GridSearchCV(rbf_svc, param_grid=param_grid, cv=10)\n",
    "grid.fit(X_train, y_train)\n",
    "\n",
    "print(\"The best parameters are %s with a score of %0.2f\"\n",
    "      % (grid.best_params_, grid.best_score_))"
   ]
  },
  {
   "cell_type": "code",
   "execution_count": null,
   "metadata": {
    "id": "akFZAH_Xd1Ja"
   },
   "outputs": [],
   "source": [
    "best_rbf_svc = grid.best_estimator_\n",
    "acc_train = best_rbf_svc.score(X_train, y_train)\n",
    "acc_test = best_rbf_svc.score(X_test, y_test)\n",
    "print(\"Training accuracy:\", acc_train)\n",
    "print(\"Test accuracy: \", acc_test)"
   ]
  },
  {
   "cell_type": "markdown",
   "metadata": {
    "id": "cJmwDCCNm6jI"
   },
   "source": [
    "* **Use confusion_matrix() to evaluate the model performance for predicting each class label**\n",
    "* **Use ConfusionMatrixDisplay() for Confusion Matrix visualization**"
   ]
  },
  {
   "cell_type": "code",
   "execution_count": null,
   "metadata": {
    "id": "lc4kgADOeClb"
   },
   "outputs": [],
   "source": [
    "from sklearn.metrics import confusion_matrix, ConfusionMatrixDisplay\n",
    "\n",
    "y_pred = best_rbf_svc.predict(X_test)\n",
    "\n",
    "print(\"number of test samples in each class label: \", np.bincount(y_test))\n",
    "\n",
    "conf_mat = confusion_matrix(y_test, y_pred, labels=np.unique(y_train))\n",
    "disp = ConfusionMatrixDisplay(confusion_matrix=conf_mat, display_labels=np.unique(y_train))\n",
    "disp.plot()"
   ]
  }
 ],
 "metadata": {
  "colab": {
   "provenance": []
  },
  "kernelspec": {
   "display_name": "Python 3 (ipykernel)",
   "language": "python",
   "name": "python3"
  },
  "language_info": {
   "codemirror_mode": {
    "name": "ipython",
    "version": 3
   },
   "file_extension": ".py",
   "mimetype": "text/x-python",
   "name": "python",
   "nbconvert_exporter": "python",
   "pygments_lexer": "ipython3",
   "version": "3.9.16"
  }
 },
 "nbformat": 4,
 "nbformat_minor": 1
}
